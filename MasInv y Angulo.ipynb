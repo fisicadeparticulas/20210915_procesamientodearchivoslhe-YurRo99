{
  "nbformat": 4,
  "nbformat_minor": 0,
  "metadata": {
    "colab": {
      "name": "MasaInvariante.ipynb",
      "provenance": [],
      "collapsed_sections": [],
      "toc_visible": true
    },
    "kernelspec": {
      "name": "python3",
      "display_name": "Python 3"
    },
    "language_info": {
      "name": "python"
    }
  },
  "cells": [
    {
      "cell_type": "code",
      "metadata": {
        "colab": {
          "base_uri": "https://localhost:8080/",
          "height": 206
        },
        "id": "wzmgjiNa3nHf",
        "outputId": "1c278d41-6ae2-4b82-8f3b-d6ff456a0ec9"
      },
      "source": [
        "import pandas as pd \n",
        "import numpy as np\n",
        "import matplotlib.pyplot as plt\n",
        "from scipy.stats import norm\n",
        "from scipy import constants as sc\n",
        "\n",
        "data = pd.read_csv('/content/drive/MyDrive/Física de Partículas/DatosMu-Mu+.csv')\n",
        "data.head()\n",
        "\n"
      ],
      "execution_count": 4,
      "outputs": [
        {
          "output_type": "execute_result",
          "data": {
            "text/html": [
              "<div>\n",
              "<style scoped>\n",
              "    .dataframe tbody tr th:only-of-type {\n",
              "        vertical-align: middle;\n",
              "    }\n",
              "\n",
              "    .dataframe tbody tr th {\n",
              "        vertical-align: top;\n",
              "    }\n",
              "\n",
              "    .dataframe thead th {\n",
              "        text-align: right;\n",
              "    }\n",
              "</style>\n",
              "<table border=\"1\" class=\"dataframe\">\n",
              "  <thead>\n",
              "    <tr style=\"text-align: right;\">\n",
              "      <th></th>\n",
              "      <th>px</th>\n",
              "      <th>py</th>\n",
              "      <th>pz</th>\n",
              "      <th>E</th>\n",
              "      <th>px*</th>\n",
              "      <th>py*</th>\n",
              "      <th>pz*</th>\n",
              "      <th>E*</th>\n",
              "    </tr>\n",
              "  </thead>\n",
              "  <tbody>\n",
              "    <tr>\n",
              "      <th>0</th>\n",
              "      <td>-25.416007</td>\n",
              "      <td>35.010752</td>\n",
              "      <td>86.334113</td>\n",
              "      <td>96.567620</td>\n",
              "      <td>25.416007</td>\n",
              "      <td>-35.010752</td>\n",
              "      <td>39.850978</td>\n",
              "      <td>58.820291</td>\n",
              "    </tr>\n",
              "    <tr>\n",
              "      <th>1</th>\n",
              "      <td>15.612459</td>\n",
              "      <td>-33.486087</td>\n",
              "      <td>15.291070</td>\n",
              "      <td>39.986045</td>\n",
              "      <td>-15.612459</td>\n",
              "      <td>33.486087</td>\n",
              "      <td>102.211484</td>\n",
              "      <td>108.684196</td>\n",
              "    </tr>\n",
              "    <tr>\n",
              "      <th>2</th>\n",
              "      <td>-12.683705</td>\n",
              "      <td>15.981324</td>\n",
              "      <td>111.997587</td>\n",
              "      <td>113.840848</td>\n",
              "      <td>12.683705</td>\n",
              "      <td>-15.981324</td>\n",
              "      <td>-11.016872</td>\n",
              "      <td>23.187293</td>\n",
              "    </tr>\n",
              "    <tr>\n",
              "      <th>3</th>\n",
              "      <td>13.174934</td>\n",
              "      <td>42.043646</td>\n",
              "      <td>-19.199519</td>\n",
              "      <td>48.061092</td>\n",
              "      <td>-13.174934</td>\n",
              "      <td>-42.043646</td>\n",
              "      <td>-42.374808</td>\n",
              "      <td>61.129955</td>\n",
              "    </tr>\n",
              "    <tr>\n",
              "      <th>4</th>\n",
              "      <td>-37.019273</td>\n",
              "      <td>-4.414691</td>\n",
              "      <td>77.437419</td>\n",
              "      <td>85.944575</td>\n",
              "      <td>37.019273</td>\n",
              "      <td>4.414691</td>\n",
              "      <td>156.310601</td>\n",
              "      <td>160.695116</td>\n",
              "    </tr>\n",
              "  </tbody>\n",
              "</table>\n",
              "</div>"
            ],
            "text/plain": [
              "          px         py          pz  ...        py*         pz*          E*\n",
              "0 -25.416007  35.010752   86.334113  ... -35.010752   39.850978   58.820291\n",
              "1  15.612459 -33.486087   15.291070  ...  33.486087  102.211484  108.684196\n",
              "2 -12.683705  15.981324  111.997587  ... -15.981324  -11.016872   23.187293\n",
              "3  13.174934  42.043646  -19.199519  ... -42.043646  -42.374808   61.129955\n",
              "4 -37.019273  -4.414691   77.437419  ...   4.414691  156.310601  160.695116\n",
              "\n",
              "[5 rows x 8 columns]"
            ]
          },
          "metadata": {},
          "execution_count": 4
        }
      ]
    },
    {
      "cell_type": "markdown",
      "metadata": {
        "id": "59TqldZmk2P2"
      },
      "source": [
        "# Masa invariante"
      ]
    },
    {
      "cell_type": "code",
      "metadata": {
        "id": "J6zD3uPZhxz-"
      },
      "source": [
        "#Nombramos nuestras variables\n",
        "P = (data['px']+data['px*'])**2 + (data['py']+data['py*'])**2 + (data['pz']+data['pz*'])**2\n",
        "E = (data['E']+data['E*'])**2\n",
        "Msqrt = E - P\n",
        "#Masa invariante es M\n",
        "M = np.sqrt(Msqrt)"
      ],
      "execution_count": null,
      "outputs": []
    },
    {
      "cell_type": "code",
      "metadata": {
        "colab": {
          "base_uri": "https://localhost:8080/",
          "height": 337
        },
        "id": "C8aoGGihmX6P",
        "outputId": "4024f87f-221c-4380-c016-e21cf324e174"
      },
      "source": [
        "plt.hist(M)"
      ],
      "execution_count": null,
      "outputs": [
        {
          "output_type": "execute_result",
          "data": {
            "text/plain": [
              "(array([  43.,   57.,   95.,  286., 4342., 4765.,  278.,   71.,   41.,\n",
              "          22.]), array([ 54.79257599,  62.04608457,  69.29959314,  76.55310171,\n",
              "         83.80661029,  91.06011886,  98.31362743, 105.56713601,\n",
              "        112.82064458, 120.07415315, 127.32766173]), <a list of 10 Patch objects>)"
            ]
          },
          "metadata": {},
          "execution_count": 4
        },
        {
          "output_type": "display_data",
          "data": {
            "image/png": "[encoded data removed]",
            "text/plain": [
              "<Figure size 432x288 with 1 Axes>"
            ]
          },
          "metadata": {
            "needs_background": "light"
          }
        }
      ]
    },
    {
      "cell_type": "markdown",
      "metadata": {
        "id": "3QkzBgTMn-gh"
      },
      "source": [
        "# Angulo teta"
      ]
    },
    {
      "cell_type": "code",
      "metadata": {
        "id": "WtA9MrU3oJoY"
      },
      "source": [
        "Px = data['px']\n",
        "Py = data['py']\n",
        "Pxy = np.sqrt(Px**2 + Py**2)\n",
        "\n",
        "Px_1 = data['px*']\n",
        "Py_1 = data['py*']\n",
        "Pxy_1 = np.sqrt(Px_1**2 + Py_1**2)\n",
        "\n",
        "Phi = np.arccos(Px/Pxy)\n",
        "Phi_1 = np.arccos(Px_1/Pxy_1)\n",
        "\n",
        "dPhi = Phi - Phi_1"
      ],
      "execution_count": 8,
      "outputs": []
    },
    {
      "cell_type": "code",
      "metadata": {
        "colab": {
          "base_uri": "https://localhost:8080/",
          "height": 369
        },
        "id": "piLABfoSleDZ",
        "outputId": "a7a41b6b-8f9a-46ef-c655-e26203db33b5"
      },
      "source": [
        "plt.hist(dPhi)"
      ],
      "execution_count": 9,
      "outputs": [
        {
          "output_type": "execute_result",
          "data": {
            "text/plain": [
              "(array([1000., 1042., 1017., 1000.,  971.,  999., 1005.,  996.,  988.,\n",
              "         982.]),\n",
              " array([-3.14106412e+00, -2.51290827e+00, -1.88475243e+00, -1.25659658e+00,\n",
              "        -6.28440734e-01, -2.84887603e-04,  6.27870959e-01,  1.25602680e+00,\n",
              "         1.88418265e+00,  2.51233850e+00,  3.14049434e+00]),\n",
              " <a list of 10 Patch objects>)"
            ]
          },
          "metadata": {},
          "execution_count": 9
        },
        {
          "output_type": "display_data",
          "data": {
            "image/png": "[encoded data removed]",
            "text/plain": [
              "<Figure size 432x288 with 1 Axes>"
            ]
          },
          "metadata": {
            "needs_background": "light"
          }
        }
      ]
    },
    {
      "cell_type": "code",
      "metadata": {
        "id": "fJBW1MBync5U"
      },
      "source": [
        ""
      ],
      "execution_count": null,
      "outputs": []
    }
  ]
}